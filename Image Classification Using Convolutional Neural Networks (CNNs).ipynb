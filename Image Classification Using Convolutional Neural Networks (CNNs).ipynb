{
  "nbformat": 4,
  "nbformat_minor": 0,
  "metadata": {
    "colab": {
      "provenance": [],
      "gpuType": "T4"
    },
    "kernelspec": {
      "name": "python3",
      "display_name": "Python 3"
    },
    "language_info": {
      "name": "python"
    },
    "accelerator": "GPU"
  },
  "cells": [
    {
      "cell_type": "markdown",
      "source": [
        "# step 1"
      ],
      "metadata": {
        "id": "j-m_F_inctpS"
      }
    },
    {
      "cell_type": "code",
      "execution_count": 9,
      "metadata": {
        "id": "Za7KBcjK3zSI"
      },
      "outputs": [],
      "source": [
        "import tensorflow as tf\n",
        "from tensorflow.keras import datasets, layers, models, optimizers\n",
        "import matplotlib.pyplot as plt\n",
        "import numpy as np\n",
        "from tensorflow.keras.preprocessing.image import ImageDataGenerator\n",
        "from tensorflow.keras.callbacks import LearningRateScheduler, EarlyStopping\n",
        "\n",
        "#  Load and Normalize the Dataset\n",
        "(train_images, train_labels), (test_images, test_labels) = datasets.cifar10.load_data()\n",
        "train_images, test_images = train_images / 255.0, test_images / 255.0 # Normalize pixel values to range [0,1]\n",
        "\n",
        "# Data Augmentation to improve model generalization\n",
        "train_datagen = ImageDataGenerator(\n",
        "    rotation_range=15,# Random rotation by 15 degrees\n",
        "    width_shift_range=0.1,# Horizontal shift by 10%\n",
        "    height_shift_range=0.1,# Vertical shift by 10%\n",
        "    horizontal_flip=True,# Randomly flip images horizontally\n",
        "    zoom_range=0.1# Random zoom by 10%\n",
        ")\n",
        "train_datagen.fit(train_images) #Apply transformations to training images\n"
      ]
    },
    {
      "cell_type": "markdown",
      "source": [
        "Step 2"
      ],
      "metadata": {
        "id": "XHttVgN6cz2y"
      }
    },
    {
      "cell_type": "code",
      "source": [
        "\n",
        "#  Build the Optimized CNN Model\n",
        "model = models.Sequential([\n",
        "    layers.Conv2D(32, (3, 3), activation='relu', padding='same', input_shape=(32, 32, 3)),  # First convolution layer\n",
        "    layers.BatchNormalization(),  # Normalize activations\n",
        "    layers.Conv2D(32, (3, 3), activation='relu', padding='same'),  # Second convolution layer\n",
        "    layers.BatchNormalization(),\n",
        "    layers.MaxPooling2D((2, 2)),  # Reduce spatial dimensions\n",
        "    layers.Dropout(0.3),  # Reduce overfitting\n",
        "\n",
        "    layers.Conv2D(64, (3, 3), activation='relu', padding='same'),  # Third convolution layer\n",
        "    layers.BatchNormalization(),\n",
        "    layers.Conv2D(64, (3, 3), activation='relu', padding='same'),  # Fourth convolution layer\n",
        "    layers.BatchNormalization(),\n",
        "    layers.MaxPooling2D((2, 2)),\n",
        "    layers.Dropout(0.4),\n",
        "\n",
        "    layers.Conv2D(128, (3, 3), activation='relu', padding='same'),  # Fifth convolution layer\n",
        "    layers.BatchNormalization(),\n",
        "    layers.Conv2D(128, (3, 3), activation='relu', padding='same'),  # Sixth convolution layer\n",
        "    layers.BatchNormalization(),\n",
        "    layers.MaxPooling2D((2, 2)),\n",
        "    layers.Dropout(0.5),\n",
        "\n",
        "    layers.Flatten(),  # Flatten feature maps to a vector\n",
        "    layers.Dense(128, activation='relu'),  # Fully connected layer\n",
        "    layers.BatchNormalization(),\n",
        "    layers.Dropout(0.5),\n",
        "    layers.Dense(10)  # Output layer with 10 classes\n",
        "])"
      ],
      "metadata": {
        "id": "ujRVnvgi35BA"
      },
      "execution_count": 10,
      "outputs": []
    },
    {
      "cell_type": "markdown",
      "source": [
        "# Step 3:"
      ],
      "metadata": {
        "id": "i6fWPuPCdK7_"
      }
    },
    {
      "cell_type": "code",
      "source": [
        "# Compile the Model\n",
        "from tensorflow.keras.optimizers import AdamW\n",
        "model.compile(optimizer=AdamW(learning_rate=0.001, weight_decay=1e-4),\n",
        "              # AdamW optimizer for better generalization\n",
        "              loss=tf.keras.losses.SparseCategoricalCrossentropy(from_logits=True),  # Loss function for classification\n",
        "              metrics=['accuracy'])\n",
        "\n",
        "# Learning Rate Scheduler to dynamically adjust learning rate\n",
        "def lr_scheduler(epoch, lr):\n",
        "    return lr * 0.95 if epoch > 10 else lr  # Reduce learning rate after 10 epochs\n",
        "\n",
        "# Callbacks for early stopping and learning rate adjustment\n",
        "lr_callback = LearningRateScheduler(lr_scheduler)\n",
        "early_stopping = EarlyStopping(monitor='val_accuracy', patience=10, restore_best_weights=True)\n"
      ],
      "metadata": {
        "id": "iVe-xd3CMF55"
      },
      "execution_count": 11,
      "outputs": []
    },
    {
      "cell_type": "markdown",
      "source": [
        "# step 4"
      ],
      "metadata": {
        "id": "qZfXjK9JdXov"
      }
    },
    {
      "cell_type": "code",
      "source": [
        "# Train the Model\n",
        "history = model.fit(train_datagen.flow(train_images, train_labels, batch_size=64),\n",
        "                    epochs=50, # Train for 50 epochs\n",
        "                    validation_data=(test_images, test_labels),\n",
        "                    callbacks=[early_stopping,])# Stop training early if no improvement\n"
      ],
      "metadata": {
        "colab": {
          "base_uri": "https://localhost:8080/"
        },
        "id": "QVL2UKRnMJ5b",
        "outputId": "9e6fd470-c98a-4efc-a071-861d0681aca9"
      },
      "execution_count": 12,
      "outputs": [
        {
          "output_type": "stream",
          "name": "stdout",
          "text": [
            "Epoch 1/50\n",
            "\u001b[1m782/782\u001b[0m \u001b[32m━━━━━━━━━━━━━━━━━━━━\u001b[0m\u001b[37m\u001b[0m \u001b[1m50s\u001b[0m 49ms/step - accuracy: 0.3036 - loss: 2.2081 - val_accuracy: 0.5107 - val_loss: 1.3622\n",
            "Epoch 2/50\n",
            "\u001b[1m782/782\u001b[0m \u001b[32m━━━━━━━━━━━━━━━━━━━━\u001b[0m\u001b[37m\u001b[0m \u001b[1m31s\u001b[0m 40ms/step - accuracy: 0.5036 - loss: 1.3758 - val_accuracy: 0.5485 - val_loss: 1.3141\n",
            "Epoch 3/50\n",
            "\u001b[1m782/782\u001b[0m \u001b[32m━━━━━━━━━━━━━━━━━━━━\u001b[0m\u001b[37m\u001b[0m \u001b[1m30s\u001b[0m 38ms/step - accuracy: 0.5816 - loss: 1.1819 - val_accuracy: 0.5258 - val_loss: 1.3979\n",
            "Epoch 4/50\n",
            "\u001b[1m782/782\u001b[0m \u001b[32m━━━━━━━━━━━━━━━━━━━━\u001b[0m\u001b[37m\u001b[0m \u001b[1m31s\u001b[0m 40ms/step - accuracy: 0.6346 - loss: 1.0459 - val_accuracy: 0.6358 - val_loss: 1.0750\n",
            "Epoch 5/50\n",
            "\u001b[1m782/782\u001b[0m \u001b[32m━━━━━━━━━━━━━━━━━━━━\u001b[0m\u001b[37m\u001b[0m \u001b[1m30s\u001b[0m 39ms/step - accuracy: 0.6594 - loss: 0.9730 - val_accuracy: 0.6607 - val_loss: 1.0417\n",
            "Epoch 6/50\n",
            "\u001b[1m782/782\u001b[0m \u001b[32m━━━━━━━━━━━━━━━━━━━━\u001b[0m\u001b[37m\u001b[0m \u001b[1m32s\u001b[0m 41ms/step - accuracy: 0.6883 - loss: 0.9033 - val_accuracy: 0.6831 - val_loss: 0.9287\n",
            "Epoch 7/50\n",
            "\u001b[1m782/782\u001b[0m \u001b[32m━━━━━━━━━━━━━━━━━━━━\u001b[0m\u001b[37m\u001b[0m \u001b[1m30s\u001b[0m 39ms/step - accuracy: 0.7028 - loss: 0.8593 - val_accuracy: 0.7091 - val_loss: 0.8339\n",
            "Epoch 8/50\n",
            "\u001b[1m782/782\u001b[0m \u001b[32m━━━━━━━━━━━━━━━━━━━━\u001b[0m\u001b[37m\u001b[0m \u001b[1m31s\u001b[0m 40ms/step - accuracy: 0.7182 - loss: 0.8266 - val_accuracy: 0.7633 - val_loss: 0.6933\n",
            "Epoch 9/50\n",
            "\u001b[1m782/782\u001b[0m \u001b[32m━━━━━━━━━━━━━━━━━━━━\u001b[0m\u001b[37m\u001b[0m \u001b[1m31s\u001b[0m 39ms/step - accuracy: 0.7328 - loss: 0.7815 - val_accuracy: 0.7638 - val_loss: 0.6722\n",
            "Epoch 10/50\n",
            "\u001b[1m782/782\u001b[0m \u001b[32m━━━━━━━━━━━━━━━━━━━━\u001b[0m\u001b[37m\u001b[0m \u001b[1m32s\u001b[0m 41ms/step - accuracy: 0.7345 - loss: 0.7808 - val_accuracy: 0.7106 - val_loss: 0.8638\n",
            "Epoch 11/50\n",
            "\u001b[1m782/782\u001b[0m \u001b[32m━━━━━━━━━━━━━━━━━━━━\u001b[0m\u001b[37m\u001b[0m \u001b[1m30s\u001b[0m 39ms/step - accuracy: 0.7448 - loss: 0.7455 - val_accuracy: 0.7212 - val_loss: 0.8246\n",
            "Epoch 12/50\n",
            "\u001b[1m782/782\u001b[0m \u001b[32m━━━━━━━━━━━━━━━━━━━━\u001b[0m\u001b[37m\u001b[0m \u001b[1m31s\u001b[0m 40ms/step - accuracy: 0.7564 - loss: 0.7164 - val_accuracy: 0.8042 - val_loss: 0.5798\n",
            "Epoch 13/50\n",
            "\u001b[1m782/782\u001b[0m \u001b[32m━━━━━━━━━━━━━━━━━━━━\u001b[0m\u001b[37m\u001b[0m \u001b[1m31s\u001b[0m 40ms/step - accuracy: 0.7570 - loss: 0.7050 - val_accuracy: 0.7295 - val_loss: 0.8227\n",
            "Epoch 14/50\n",
            "\u001b[1m782/782\u001b[0m \u001b[32m━━━━━━━━━━━━━━━━━━━━\u001b[0m\u001b[37m\u001b[0m \u001b[1m32s\u001b[0m 41ms/step - accuracy: 0.7617 - loss: 0.6872 - val_accuracy: 0.8261 - val_loss: 0.5212\n",
            "Epoch 15/50\n",
            "\u001b[1m782/782\u001b[0m \u001b[32m━━━━━━━━━━━━━━━━━━━━\u001b[0m\u001b[37m\u001b[0m \u001b[1m32s\u001b[0m 40ms/step - accuracy: 0.7722 - loss: 0.6714 - val_accuracy: 0.7881 - val_loss: 0.6317\n",
            "Epoch 16/50\n",
            "\u001b[1m782/782\u001b[0m \u001b[32m━━━━━━━━━━━━━━━━━━━━\u001b[0m\u001b[37m\u001b[0m \u001b[1m30s\u001b[0m 39ms/step - accuracy: 0.7703 - loss: 0.6701 - val_accuracy: 0.8013 - val_loss: 0.5978\n",
            "Epoch 17/50\n",
            "\u001b[1m782/782\u001b[0m \u001b[32m━━━━━━━━━━━━━━━━━━━━\u001b[0m\u001b[37m\u001b[0m \u001b[1m31s\u001b[0m 40ms/step - accuracy: 0.7771 - loss: 0.6523 - val_accuracy: 0.7737 - val_loss: 0.6965\n",
            "Epoch 18/50\n",
            "\u001b[1m782/782\u001b[0m \u001b[32m━━━━━━━━━━━━━━━━━━━━\u001b[0m\u001b[37m\u001b[0m \u001b[1m30s\u001b[0m 38ms/step - accuracy: 0.7793 - loss: 0.6473 - val_accuracy: 0.7472 - val_loss: 0.7844\n",
            "Epoch 19/50\n",
            "\u001b[1m782/782\u001b[0m \u001b[32m━━━━━━━━━━━━━━━━━━━━\u001b[0m\u001b[37m\u001b[0m \u001b[1m31s\u001b[0m 40ms/step - accuracy: 0.7789 - loss: 0.6489 - val_accuracy: 0.8115 - val_loss: 0.5654\n",
            "Epoch 20/50\n",
            "\u001b[1m782/782\u001b[0m \u001b[32m━━━━━━━━━━━━━━━━━━━━\u001b[0m\u001b[37m\u001b[0m \u001b[1m31s\u001b[0m 39ms/step - accuracy: 0.7882 - loss: 0.6275 - val_accuracy: 0.8028 - val_loss: 0.5866\n",
            "Epoch 21/50\n",
            "\u001b[1m782/782\u001b[0m \u001b[32m━━━━━━━━━━━━━━━━━━━━\u001b[0m\u001b[37m\u001b[0m \u001b[1m32s\u001b[0m 41ms/step - accuracy: 0.7930 - loss: 0.6066 - val_accuracy: 0.8237 - val_loss: 0.5282\n",
            "Epoch 22/50\n",
            "\u001b[1m782/782\u001b[0m \u001b[32m━━━━━━━━━━━━━━━━━━━━\u001b[0m\u001b[37m\u001b[0m \u001b[1m31s\u001b[0m 39ms/step - accuracy: 0.7902 - loss: 0.6092 - val_accuracy: 0.8304 - val_loss: 0.5042\n",
            "Epoch 23/50\n",
            "\u001b[1m782/782\u001b[0m \u001b[32m━━━━━━━━━━━━━━━━━━━━\u001b[0m\u001b[37m\u001b[0m \u001b[1m32s\u001b[0m 41ms/step - accuracy: 0.7941 - loss: 0.6108 - val_accuracy: 0.7997 - val_loss: 0.5815\n",
            "Epoch 24/50\n",
            "\u001b[1m782/782\u001b[0m \u001b[32m━━━━━━━━━━━━━━━━━━━━\u001b[0m\u001b[37m\u001b[0m \u001b[1m40s\u001b[0m 39ms/step - accuracy: 0.7939 - loss: 0.6016 - val_accuracy: 0.8104 - val_loss: 0.5734\n",
            "Epoch 25/50\n",
            "\u001b[1m782/782\u001b[0m \u001b[32m━━━━━━━━━━━━━━━━━━━━\u001b[0m\u001b[37m\u001b[0m \u001b[1m31s\u001b[0m 40ms/step - accuracy: 0.8000 - loss: 0.5885 - val_accuracy: 0.8043 - val_loss: 0.5975\n",
            "Epoch 26/50\n",
            "\u001b[1m782/782\u001b[0m \u001b[32m━━━━━━━━━━━━━━━━━━━━\u001b[0m\u001b[37m\u001b[0m \u001b[1m30s\u001b[0m 38ms/step - accuracy: 0.8047 - loss: 0.5729 - val_accuracy: 0.8252 - val_loss: 0.5218\n",
            "Epoch 27/50\n",
            "\u001b[1m782/782\u001b[0m \u001b[32m━━━━━━━━━━━━━━━━━━━━\u001b[0m\u001b[37m\u001b[0m \u001b[1m31s\u001b[0m 40ms/step - accuracy: 0.8040 - loss: 0.5778 - val_accuracy: 0.8382 - val_loss: 0.4809\n",
            "Epoch 28/50\n",
            "\u001b[1m782/782\u001b[0m \u001b[32m━━━━━━━━━━━━━━━━━━━━\u001b[0m\u001b[37m\u001b[0m \u001b[1m30s\u001b[0m 39ms/step - accuracy: 0.8042 - loss: 0.5775 - val_accuracy: 0.8316 - val_loss: 0.5037\n",
            "Epoch 29/50\n",
            "\u001b[1m782/782\u001b[0m \u001b[32m━━━━━━━━━━━━━━━━━━━━\u001b[0m\u001b[37m\u001b[0m \u001b[1m32s\u001b[0m 41ms/step - accuracy: 0.8045 - loss: 0.5711 - val_accuracy: 0.8397 - val_loss: 0.4924\n",
            "Epoch 30/50\n",
            "\u001b[1m782/782\u001b[0m \u001b[32m━━━━━━━━━━━━━━━━━━━━\u001b[0m\u001b[37m\u001b[0m \u001b[1m31s\u001b[0m 39ms/step - accuracy: 0.8088 - loss: 0.5667 - val_accuracy: 0.7516 - val_loss: 0.7795\n",
            "Epoch 31/50\n",
            "\u001b[1m782/782\u001b[0m \u001b[32m━━━━━━━━━━━━━━━━━━━━\u001b[0m\u001b[37m\u001b[0m \u001b[1m32s\u001b[0m 41ms/step - accuracy: 0.8085 - loss: 0.5563 - val_accuracy: 0.8230 - val_loss: 0.5319\n",
            "Epoch 32/50\n",
            "\u001b[1m782/782\u001b[0m \u001b[32m━━━━━━━━━━━━━━━━━━━━\u001b[0m\u001b[37m\u001b[0m \u001b[1m32s\u001b[0m 41ms/step - accuracy: 0.8181 - loss: 0.5432 - val_accuracy: 0.8211 - val_loss: 0.5469\n",
            "Epoch 33/50\n",
            "\u001b[1m782/782\u001b[0m \u001b[32m━━━━━━━━━━━━━━━━━━━━\u001b[0m\u001b[37m\u001b[0m \u001b[1m30s\u001b[0m 39ms/step - accuracy: 0.8113 - loss: 0.5521 - val_accuracy: 0.8463 - val_loss: 0.4574\n",
            "Epoch 34/50\n",
            "\u001b[1m782/782\u001b[0m \u001b[32m━━━━━━━━━━━━━━━━━━━━\u001b[0m\u001b[37m\u001b[0m \u001b[1m31s\u001b[0m 40ms/step - accuracy: 0.8149 - loss: 0.5460 - val_accuracy: 0.8444 - val_loss: 0.4621\n",
            "Epoch 35/50\n",
            "\u001b[1m782/782\u001b[0m \u001b[32m━━━━━━━━━━━━━━━━━━━━\u001b[0m\u001b[37m\u001b[0m \u001b[1m30s\u001b[0m 39ms/step - accuracy: 0.8166 - loss: 0.5438 - val_accuracy: 0.8374 - val_loss: 0.4866\n",
            "Epoch 36/50\n",
            "\u001b[1m782/782\u001b[0m \u001b[32m━━━━━━━━━━━━━━━━━━━━\u001b[0m\u001b[37m\u001b[0m \u001b[1m31s\u001b[0m 40ms/step - accuracy: 0.8184 - loss: 0.5313 - val_accuracy: 0.8530 - val_loss: 0.4409\n",
            "Epoch 37/50\n",
            "\u001b[1m782/782\u001b[0m \u001b[32m━━━━━━━━━━━━━━━━━━━━\u001b[0m\u001b[37m\u001b[0m \u001b[1m31s\u001b[0m 39ms/step - accuracy: 0.8213 - loss: 0.5218 - val_accuracy: 0.8336 - val_loss: 0.4981\n",
            "Epoch 38/50\n",
            "\u001b[1m782/782\u001b[0m \u001b[32m━━━━━━━━━━━━━━━━━━━━\u001b[0m\u001b[37m\u001b[0m \u001b[1m42s\u001b[0m 40ms/step - accuracy: 0.8193 - loss: 0.5295 - val_accuracy: 0.8091 - val_loss: 0.5867\n",
            "Epoch 39/50\n",
            "\u001b[1m782/782\u001b[0m \u001b[32m━━━━━━━━━━━━━━━━━━━━\u001b[0m\u001b[37m\u001b[0m \u001b[1m32s\u001b[0m 40ms/step - accuracy: 0.8179 - loss: 0.5294 - val_accuracy: 0.8073 - val_loss: 0.5945\n",
            "Epoch 40/50\n",
            "\u001b[1m782/782\u001b[0m \u001b[32m━━━━━━━━━━━━━━━━━━━━\u001b[0m\u001b[37m\u001b[0m \u001b[1m32s\u001b[0m 41ms/step - accuracy: 0.8230 - loss: 0.5207 - val_accuracy: 0.8079 - val_loss: 0.5897\n",
            "Epoch 41/50\n",
            "\u001b[1m782/782\u001b[0m \u001b[32m━━━━━━━━━━━━━━━━━━━━\u001b[0m\u001b[37m\u001b[0m \u001b[1m31s\u001b[0m 39ms/step - accuracy: 0.8258 - loss: 0.5154 - val_accuracy: 0.8329 - val_loss: 0.5057\n",
            "Epoch 42/50\n",
            "\u001b[1m782/782\u001b[0m \u001b[32m━━━━━━━━━━━━━━━━━━━━\u001b[0m\u001b[37m\u001b[0m \u001b[1m42s\u001b[0m 41ms/step - accuracy: 0.8270 - loss: 0.5135 - val_accuracy: 0.8210 - val_loss: 0.5584\n",
            "Epoch 43/50\n",
            "\u001b[1m782/782\u001b[0m \u001b[32m━━━━━━━━━━━━━━━━━━━━\u001b[0m\u001b[37m\u001b[0m \u001b[1m31s\u001b[0m 40ms/step - accuracy: 0.8247 - loss: 0.5235 - val_accuracy: 0.8381 - val_loss: 0.4942\n",
            "Epoch 44/50\n",
            "\u001b[1m782/782\u001b[0m \u001b[32m━━━━━━━━━━━━━━━━━━━━\u001b[0m\u001b[37m\u001b[0m \u001b[1m41s\u001b[0m 40ms/step - accuracy: 0.8277 - loss: 0.5063 - val_accuracy: 0.8195 - val_loss: 0.5701\n",
            "Epoch 45/50\n",
            "\u001b[1m782/782\u001b[0m \u001b[32m━━━━━━━━━━━━━━━━━━━━\u001b[0m\u001b[37m\u001b[0m \u001b[1m31s\u001b[0m 39ms/step - accuracy: 0.8310 - loss: 0.4986 - val_accuracy: 0.8453 - val_loss: 0.4587\n",
            "Epoch 46/50\n",
            "\u001b[1m782/782\u001b[0m \u001b[32m━━━━━━━━━━━━━━━━━━━━\u001b[0m\u001b[37m\u001b[0m \u001b[1m32s\u001b[0m 41ms/step - accuracy: 0.8281 - loss: 0.5089 - val_accuracy: 0.8491 - val_loss: 0.4613\n"
          ]
        }
      ]
    },
    {
      "cell_type": "markdown",
      "source": [
        "# step 5"
      ],
      "metadata": {
        "id": "S_osVk3Edep3"
      }
    },
    {
      "cell_type": "code",
      "source": [
        "# Evaluate the Model\n",
        "_, test_acc = model.evaluate(test_images, test_labels, verbose=2)\n",
        "print(f\"Test accuracy: {test_acc * 100:.2f}%\")"
      ],
      "metadata": {
        "colab": {
          "base_uri": "https://localhost:8080/"
        },
        "id": "TTS-mak0MLJV",
        "outputId": "dc692847-ef73-4bca-9828-a9cf5b261270"
      },
      "execution_count": 13,
      "outputs": [
        {
          "output_type": "stream",
          "name": "stdout",
          "text": [
            "313/313 - 1s - 4ms/step - accuracy: 0.8530 - loss: 0.4409\n",
            "Test accuracy: 85.30%\n"
          ]
        }
      ]
    },
    {
      "cell_type": "markdown",
      "source": [
        "# Step 6:"
      ],
      "metadata": {
        "id": "eDoRIXBYdiOZ"
      }
    },
    {
      "cell_type": "code",
      "source": [
        "#  Visualize Training Results\n",
        "plt.plot(history.history['accuracy'], label='accuracy')\n",
        "plt.plot(history.history['val_accuracy'], label='val_accuracy')\n",
        "plt.xlabel('Epoch')\n",
        "plt.ylabel('Accuracy')\n",
        "plt.ylim([0, 1])\n",
        "plt.legend(loc='lower right')\n",
        "plt.show()"
      ],
      "metadata": {
        "colab": {
          "base_uri": "https://localhost:8080/",
          "height": 454
        },
        "id": "CTNVFeL-MMCX",
        "outputId": "3fc43636-e9fa-43e5-f3a5-52138e30ec43"
      },
      "execution_count": 14,
      "outputs": [
        {
          "output_type": "display_data",
          "data": {
            "text/plain": [
              "<Figure size 640x480 with 1 Axes>"
            ],
            "image/png": "[encoded data removed]"
          },
          "metadata": {}
        }
      ]
    },
    {
      "cell_type": "code",
      "source": [
        "\n",
        "# Define class names for CIFAR-10 dataset\n",
        "class_names = ['airplane', 'automobile', 'bird', 'cat', 'deer',\n",
        "               'dog', 'frog', 'horse', 'ship', 'truck']\n",
        "\n",
        "# Step 7: Make Predictions\n",
        "probability_model = tf.keras.Sequential([model, tf.keras.layers.Softmax()])\n",
        "predictions = probability_model.predict(test_images)\n",
        "\n",
        "# Function to display predictions\n",
        "def plot_image(i, predictions_array, true_label, img):\n",
        "    true_label, img = true_label[i][0], img[i]\n",
        "    plt.grid(False)\n",
        "    plt.xticks([])\n",
        "    plt.yticks([])\n",
        "\n",
        "    plt.imshow(img, cmap=plt.cm.binary)\n",
        "\n",
        "    predicted_label = np.argmax(predictions_array)\n",
        "    if predicted_label == true_label:\n",
        "        color = 'blue'\n",
        "    else:\n",
        "        color = 'red'\n",
        "\n",
        "    plt.xlabel(f\"{class_names[predicted_label]} ({100*np.max(predictions_array):.2f}%)\", color=color)\n",
        "\n",
        "# Display prediction for a sample image\n",
        "plt.figure()\n",
        "plot_image(3, predictions[3], test_labels, test_images)\n",
        "plt.show()\n"
      ],
      "metadata": {
        "colab": {
          "base_uri": "https://localhost:8080/",
          "height": 444
        },
        "id": "ljjeDfYTML_u",
        "outputId": "e2691335-63a5-43fa-ef70-407e8aa27259"
      },
      "execution_count": 15,
      "outputs": [
        {
          "output_type": "stream",
          "name": "stdout",
          "text": [
            "\u001b[1m313/313\u001b[0m \u001b[32m━━━━━━━━━━━━━━━━━━━━\u001b[0m\u001b[37m\u001b[0m \u001b[1m2s\u001b[0m 5ms/step\n"
          ]
        },
        {
          "output_type": "display_data",
          "data": {
            "text/plain": [
              "<Figure size 640x480 with 1 Axes>"
            ],
            "image/png": "[encoded data removed]"
          },
          "metadata": {}
        }
      ]
    }
  ]
}